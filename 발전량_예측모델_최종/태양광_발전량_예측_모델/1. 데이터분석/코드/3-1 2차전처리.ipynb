{
 "cells": [
  {
   "cell_type": "code",
   "execution_count": 38,
   "id": "5465d71c",
   "metadata": {},
   "outputs": [
    {
     "name": "stdout",
     "output_type": "stream",
     "text": [
      "         발전구분  호기  지점명        위도         경도  설비용량(MW)  year  month  day  hour  \\\n",
      "0  (군산)삼랑진태양광   1  양산시  35.30737  129.02009       2.0  2022     12   31    20   \n",
      "1  (군산)삼랑진태양광   1  양산시  35.30737  129.02009       2.0  2022     12   31    21   \n",
      "2  (군산)삼랑진태양광   1  양산시  35.30737  129.02009       2.0  2022     12   31    22   \n",
      "3  (군산)삼랑진태양광   1  양산시  35.30737  129.02009       2.0  2022     12   31    23   \n",
      "4  (군산)삼랑진태양광   1  양산시  35.30737  129.02009       2.0  2023      1    1     0   \n",
      "\n",
      "   ...  습도 QC플래그  적설(cm)  전운량(10분위)  풍속(m/s)  풍속 QC플래그  발전량(kWh)  발전효율  \\\n",
      "0  ...       NaN     NaN        0.0      1.2       NaN       0.0   0.0   \n",
      "1  ...       NaN     NaN        1.0      1.4       NaN       0.0   0.0   \n",
      "2  ...       NaN     NaN        2.0      2.7       NaN       0.0   0.0   \n",
      "3  ...       NaN     NaN        0.0      1.3       NaN       0.0   0.0   \n",
      "4  ...       NaN     NaN        0.0      0.4       NaN       0.0   0.0   \n",
      "\n",
      "        태양고도         방위각  하늘상태  \n",
      "0 -31.560920  262.601234   1.0  \n",
      "1 -43.764077  270.755587   1.0  \n",
      "2 -55.925228  280.941553   1.0  \n",
      "3 -67.510280  297.081524   1.0  \n",
      "4 -76.433240  332.624317   1.0  \n",
      "\n",
      "[5 rows x 27 columns]\n"
     ]
    }
   ],
   "source": [
    "import pandas as pd\n",
    "\n",
    "# ✅ 병합된 CSV 파일 경로\n",
    "file_path = \"../전처리_과정_데이터/1차전처리완료.csv\"\n",
    "df = pd.read_csv(file_path, encoding='utf-8-sig')\n",
    "\n",
    "print(df.head())"
   ]
  },
  {
   "cell_type": "markdown",
   "id": "b2b4c80e",
   "metadata": {},
   "source": [
    "### 파생변수 추가"
   ]
  },
  {
   "cell_type": "code",
   "execution_count": 39,
   "id": "a2e40e21",
   "metadata": {},
   "outputs": [
    {
     "name": "stdout",
     "output_type": "stream",
     "text": [
      "   기온(°C)  습도(%)       이슬점\n",
      "0     2.5   53.0 -6.127064\n",
      "1     1.2   57.0 -6.389528\n",
      "2     2.8   52.0 -6.097851\n",
      "3     1.5   55.0 -6.575349\n",
      "4     0.6   59.0 -6.503007\n"
     ]
    }
   ],
   "source": [
    "import numpy as np\n",
    "\n",
    "# ✅ 이슬점 계산 함수 (0% 상대습도도 안전하게 처리)\n",
    "def calculate_dew_point(temp_c, rh_percent):\n",
    "    b = 17.62\n",
    "    c = 243.12\n",
    "    rh_percent = np.maximum(rh_percent, 0.1)  # 0%를 0.1%로 대체하여 log 방지\n",
    "    gamma = (b * temp_c) / (c + temp_c) + np.log(rh_percent / 100.0)\n",
    "    dew_point = (c * gamma) / (b - gamma)\n",
    "    return dew_point\n",
    "\n",
    "# ✅ 이슬점 컬럼 추가 (NaN 대체 대신 함수 내부에서 보정)\n",
    "df['이슬점'] = calculate_dew_point(df['기온(°C)'], df['습도(%)'])\n",
    "\n",
    "# ✅ 확인\n",
    "print(df[['기온(°C)', '습도(%)', '이슬점']].head())\n",
    "\n"
   ]
  },
  {
   "cell_type": "code",
   "execution_count": 40,
   "id": "65876a56",
   "metadata": {},
   "outputs": [],
   "source": [
    "# ✅ T - Td 컬럼 생성 (기온 - 이슬점)\n",
    "df['T-Td'] = df['기온(°C)'] - df['이슬점']"
   ]
  },
  {
   "cell_type": "code",
   "execution_count": 41,
   "id": "3206fda9",
   "metadata": {},
   "outputs": [],
   "source": [
    "import calendar\n",
    "\n",
    "# ✅ 날짜 정보가 year, month, day로 되어 있다고 가정\n",
    "df['date'] = pd.to_datetime(df[['year', 'month', 'day']], errors='coerce')\n",
    "\n",
    "# ✅ 각 달의 총 일수 계산 (윤년 포함 정확하게 계산)\n",
    "df['days_in_month'] = df['date'].dt.days_in_month\n",
    "\n",
    "# ✅ 월.일 형식의 소수점 표현 (1일 → .0, 말일 → 거의 .999)\n",
    "df['month_day'] = df['month'] + (df['day'] - 1) / df['days_in_month']\n",
    "\n",
    "# ✅ 필요시 사인/코사인 인코딩도 추가\n",
    "df['month_day_sin'] = np.sin(2 * np.pi * df['month_day'] / 12)\n",
    "df['month_day_cos'] = np.cos(2 * np.pi * df['month_day'] / 12)"
   ]
  },
  {
   "cell_type": "code",
   "execution_count": 42,
   "id": "228fddbc",
   "metadata": {},
   "outputs": [],
   "source": [
    "# ✅ hour 기반 sin/cos\n",
    "df['hour_sin'] = np.sin(2 * np.pi * df['hour'] / 24)\n",
    "df['hour_cos'] = np.cos(2 * np.pi * df['hour'] / 24)\n",
    "\n",
    "# ✅ month 기반 sin/cos\n",
    "df['month_sin'] = np.sin(2 * np.pi * df['month'] / 12)\n",
    "df['month_cos'] = np.cos(2 * np.pi * df['month'] / 12)"
   ]
  },
  {
   "cell_type": "markdown",
   "id": "fec9344e",
   "metadata": {},
   "source": [
    "### 결측치 처리"
   ]
  },
  {
   "cell_type": "code",
   "execution_count": 43,
   "id": "f1dfd0f7",
   "metadata": {},
   "outputs": [
    {
     "name": "stdout",
     "output_type": "stream",
     "text": [
      "제거된 행 수: 583,783개\n",
      "남은 행 수: 2,003,417개\n"
     ]
    }
   ],
   "source": [
    "# ✅ 제거 전 행 개수\n",
    "before_count = len(df)\n",
    "\n",
    "# ✅ 해당 컬럼 중 하나라도 결측이면 제거\n",
    "df = df.dropna(subset=['하늘상태', '풍속(m/s)', '습도(%)', '기온(°C)'])\n",
    "\n",
    "# ✅ 제거 후 행 개수\n",
    "after_count = len(df)\n",
    "\n",
    "# ✅ 제거된 행 수 출력\n",
    "print(f\"제거된 행 수: {before_count - after_count:,}개\")\n",
    "print(f\"남은 행 수: {after_count:,}개\")\n"
   ]
  },
  {
   "cell_type": "code",
   "execution_count": 44,
   "id": "6fa91bd6",
   "metadata": {},
   "outputs": [],
   "source": [
    "# ✅ 우선순위 컬럼 리스트\n",
    "sorted_columns = [\n",
    "    '발전구분', '호기', '지점명', '지점', '설비용량(MW)', '연식(년)', '고도', '위도', '경도',\n",
    "    'year', 'month', 'month_sin', 'month_cos', 'day', 'month_day', \n",
    "    'month_day_sin', 'month_day_cos', 'hour', 'hour_sin', 'hour_cos',\n",
    "    '태양고도', '방위각', '일사(MJ/m2)',\n",
    "    '기온(°C)', '습도(%)', '이슬점', 'T-Td',\n",
    "    '강수량(mm)', '하늘상태', '풍속(m/s)',\n",
    "    '발전량(kWh)', '발전효율'\n",
    "]\n",
    "\n",
    "# ✅ 현재 df 컬럼 기준으로 정렬 가능한 컬럼만 추출\n",
    "existing_columns = [col for col in sorted_columns if col in df.columns]\n",
    "\n",
    "# ✅ 컬럼 순서 적용\n",
    "df = df[existing_columns]\n"
   ]
  },
  {
   "cell_type": "code",
   "execution_count": 45,
   "id": "28c09651",
   "metadata": {},
   "outputs": [
    {
     "data": {
      "text/plain": [
       "Index(['발전구분', '호기', '지점명', '설비용량(MW)', '위도', '경도', 'year', 'month',\n",
       "       'month_sin', 'month_cos', 'day', 'month_day', 'month_day_sin',\n",
       "       'month_day_cos', 'hour', 'hour_sin', 'hour_cos', '태양고도', '방위각',\n",
       "       '일사(MJ/m2)', '기온(°C)', '습도(%)', '이슬점', 'T-Td', '강수량(mm)', '하늘상태',\n",
       "       '풍속(m/s)', '발전량(kWh)', '발전효율'],\n",
       "      dtype='object')"
      ]
     },
     "execution_count": 45,
     "metadata": {},
     "output_type": "execute_result"
    }
   ],
   "source": [
    "df.columns"
   ]
  },
  {
   "cell_type": "code",
   "execution_count": 46,
   "id": "92dd95ce",
   "metadata": {},
   "outputs": [
    {
     "name": "stdout",
     "output_type": "stream",
     "text": [
      "✅ 저장 완료: ../전처리_과정_데이터/2차전처리완료.csv\n"
     ]
    }
   ],
   "source": [
    "save_path = \"../전처리_과정_데이터/2차전처리완료.csv\"\n",
    "df.to_csv(save_path, index=False, encoding='utf-8-sig')\n",
    "print(f\"✅ 저장 완료: {save_path}\")\n"
   ]
  }
 ],
 "metadata": {
  "kernelspec": {
   "display_name": "base",
   "language": "python",
   "name": "python3"
  },
  "language_info": {
   "codemirror_mode": {
    "name": "ipython",
    "version": 3
   },
   "file_extension": ".py",
   "mimetype": "text/x-python",
   "name": "python",
   "nbconvert_exporter": "python",
   "pygments_lexer": "ipython3",
   "version": "3.12.4"
  }
 },
 "nbformat": 4,
 "nbformat_minor": 5
}
