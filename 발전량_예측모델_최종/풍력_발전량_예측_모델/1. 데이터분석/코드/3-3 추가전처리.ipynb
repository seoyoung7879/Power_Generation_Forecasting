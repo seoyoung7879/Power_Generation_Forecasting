{
 "cells": [
  {
   "cell_type": "code",
   "execution_count": 1,
   "id": "94368d22",
   "metadata": {},
   "outputs": [
    {
     "name": "stdout",
     "output_type": "stream",
     "text": [
      "원본 데이터: 242,378건\n",
      "발전구분별 제거 건수:\n",
      "  성산풍력: 2,014건\n",
      "  한경풍력: 1,631건\n",
      "  어음풍력: 206건\n",
      "  상명풍력: 148건\n",
      "커트인 이하 또는 커트아웃 이상에서 발전량>0인 데이터 제거: 3,999건\n",
      "제거 후 데이터: 238,379건\n",
      "덮어쓰기 완료: 파생변수추가_기상과풍력.csv\n"
     ]
    }
   ],
   "source": [
    "import pandas as pd\n",
    "\n",
    "# 데이터 로드 (파일명은 필요에 따라 수정)\n",
    "df = pd.read_csv('../최종사용_데이터/파생변수추가_기상과풍력.csv')\n",
    "\n",
    "print(f\"원본 데이터: {len(df):,}건\")\n",
    "\n",
    "# 풍속이 커트인 이하 또는 커트아웃 이상이면서 발전량이 0이 아닌 경우 제거\n",
    "invalid_power = ((df['풍속(m/s)'] <= df['커트인']) | (df['풍속(m/s)'] >= df['커트아웃'])) & (df['발전량(kWh)'] > 0)\n",
    "removed = invalid_power.sum()\n",
    "\n",
    "# 발전구분별 제거 건수\n",
    "if '발전구분' in df.columns:\n",
    "    removed_by_plant = df.loc[invalid_power, '발전구분'].value_counts()\n",
    "    print(\"발전구분별 제거 건수:\")\n",
    "    for plant, cnt in removed_by_plant.items():\n",
    "        print(f\"  {plant}: {cnt:,}건\")\n",
    "\n",
    "df = df[~invalid_power]\n",
    "\n",
    "print(f\"커트인 이하 또는 커트아웃 이상에서 발전량>0인 데이터 제거: {removed:,}건\")\n",
    "print(f\"제거 후 데이터: {len(df):,}건\")\n",
    "\n",
    "# 결과를 같은 파일에 덮어쓰기\n",
    "df.to_csv('../최종사용_데이터/파생변수추가_기상과풍력.csv', index=False, encoding='utf-8-sig')\n",
    "print(\"덮어쓰기 완료: 파생변수추가_기상과풍력.csv\")"
   ]
  },
  {
   "cell_type": "code",
   "execution_count": 2,
   "id": "6163b0cb",
   "metadata": {},
   "outputs": [
    {
     "name": "stdout",
     "output_type": "stream",
     "text": [
      "풍속≠정격 & 발전량=설비용량*1000인 경우 발전구분-호기별 제거 건수:\n",
      "  성산풍력 1호기: 1건\n",
      "  성산풍력 2호기: 1건\n",
      "  한경풍력 1호기: 5건\n",
      "  한경풍력 2호기: 18건\n",
      "풍속≠정격 & 발전량=설비용량*1000인 경우 전체 제거: 25건\n",
      "제거 후 데이터: 238,354건\n",
      "파생변수추가_기상과풍력.csv\n"
     ]
    }
   ],
   "source": [
    "# 풍속이 정격이 아닌데 발전량=설비용량*1000인 경우 제거\n",
    "if all(col in df.columns for col in ['풍속(m/s)', '정격', '발전량(kWh)', '설비용량(MW)']):\n",
    "    cond = (df['풍속(m/s)'] != df['정격']) & (df['발전량(kWh)'] == df['설비용량(MW)'] * 1000)\n",
    "    removed2 = cond.sum()\n",
    "    # 발전구분-호기별 제거 건수\n",
    "    if '발전구분' in df.columns and '호기' in df.columns:\n",
    "        removed_by_combo = df.loc[cond].groupby(['발전구분', '호기']).size()\n",
    "        print(\"풍속≠정격 & 발전량=설비용량*1000인 경우 발전구분-호기별 제거 건수:\")\n",
    "        for (plant, unit), cnt in removed_by_combo.items():\n",
    "            print(f\"  {plant} {unit}호기: {cnt:,}건\")\n",
    "    df = df[~cond]\n",
    "    print(f\"풍속≠정격 & 발전량=설비용량*1000인 경우 전체 제거: {removed2:,}건\")\n",
    "    print(f\"제거 후 데이터: {len(df):,}건\")\n",
    "# 결과를 같은 파일에 덮어쓰기\n",
    "df.to_csv('../최종사용_데이터/파생변수추가_기상과풍력.csv', index=False, encoding='utf-8-sig')\n",
    "print(\"파생변수추가_기상과풍력.csv\")"
   ]
  },
  {
   "cell_type": "code",
   "execution_count": null,
   "id": "e41e4628",
   "metadata": {},
   "outputs": [],
   "source": []
  },
  {
   "cell_type": "code",
   "execution_count": 3,
   "id": "5fa64ba1",
   "metadata": {},
   "outputs": [
    {
     "name": "stdout",
     "output_type": "stream",
     "text": [
      "발전구분-호기별 제거 건수:\n",
      "  상명풍력 1호기: 2,322건\n",
      "  성산풍력 1호기: 8,357건\n",
      "  성산풍력 2호기: 8,402건\n",
      "  어음풍력 1호기: 4,111건\n",
      "  한경풍력 1호기: 18,182건\n",
      "  한경풍력 2호기: 24,842건\n",
      "전체 제거: 66,216건\n",
      "제거 후 데이터: 172,138건\n"
     ]
    }
   ],
   "source": [
    "#베츠의 법칙\n",
    "import numpy as np\n",
    "\n",
    "# 변환효율 계산 및 100% 초과 제거\n",
    "if all(col in df.columns for col in ['발전량(kWh)', 'air_density', '블레이드', '풍속(m/s)']):\n",
    "    # kWh → Wh로 변환 (1kWh=1000Wh), 풍력공식 단위 맞추기\n",
    "    gen_wh = df['발전량(kWh)'] * 1000\n",
    "    rho = df['air_density']\n",
    "    v = df['풍속(m/s)']\n",
    "    blade = df['블레이드']\n",
    "    A = np.pi * (blade ** 2)\n",
    "    denom = 0.5 * rho * A * (v ** 3)\n",
    "    # 0으로 나누는 경우 방지\n",
    "    denom = denom.replace(0, np.nan)\n",
    "    efficiency = gen_wh / denom\n",
    "    cond = efficiency > 0.593\n",
    "    removed3 = cond.sum()\n",
    "    # 발전구분-호기별 제거 건수\n",
    "    if '발전구분' in df.columns and '호기' in df.columns:\n",
    "        removed_by_combo = df.loc[cond].groupby(['발전구분', '호기']).size()\n",
    "        print(\"발전구분-호기별 제거 건수:\")\n",
    "        for (plant, unit), cnt in removed_by_combo.items():\n",
    "            print(f\"  {plant} {unit}호기: {cnt:,}건\")\n",
    "    df = df[~cond]\n",
    "    print(f\"전체 제거: {removed3:,}건\")\n",
    "    print(f\"제거 후 데이터: {len(df):,}건\")\n",
    "df.to_csv('../최종사용_데이터/파생변수추가_기상과풍력.csv', index=False, encoding='utf-8-sig')"
   ]
  },
  {
   "cell_type": "code",
   "execution_count": 4,
   "id": "c925028a",
   "metadata": {},
   "outputs": [
    {
     "name": "stdout",
     "output_type": "stream",
     "text": [
      "\n",
      "[INFO] 발전구분-호기별 데이터 개수:\n",
      "  상명풍력 1호기: 12,815건\n",
      "  성산풍력 1호기: 13,578건\n",
      "  성산풍력 2호기: 13,389건\n",
      "  어음풍력 1호기: 3,750건\n",
      "  한경풍력 1호기: 66,880건\n",
      "  한경풍력 2호기: 61,726건\n"
     ]
    }
   ],
   "source": [
    "# 발전구분, 호기별 데이터 개수 확인\n",
    "if '발전구분' in df.columns and '호기' in df.columns:\n",
    "    print(\"\\n[INFO] 발전구분-호기별 데이터 개수:\")\n",
    "    counts = df.groupby(['발전구분', '호기']).size()\n",
    "    for (plant, unit), cnt in counts.items():\n",
    "        print(f\"  {plant} {unit}호기: {cnt:,}건\")"
   ]
  }
 ],
 "metadata": {
  "kernelspec": {
   "display_name": "Python 3",
   "language": "python",
   "name": "python3"
  },
  "language_info": {
   "codemirror_mode": {
    "name": "ipython",
    "version": 3
   },
   "file_extension": ".py",
   "mimetype": "text/x-python",
   "name": "python",
   "nbconvert_exporter": "python",
   "pygments_lexer": "ipython3",
   "version": "3.13.2"
  }
 },
 "nbformat": 4,
 "nbformat_minor": 5
}
